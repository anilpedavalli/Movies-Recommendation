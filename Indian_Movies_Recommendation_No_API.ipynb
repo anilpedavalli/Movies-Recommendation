{
  "nbformat": 4,
  "nbformat_minor": 0,
  "metadata": {
    "colab": {
      "name": "Indian Movies Recommendationipynb",
      "provenance": [],
      "collapsed_sections": [],
      "toc_visible": true
    },
    "kernelspec": {
      "name": "python3",
      "display_name": "Python 3"
    },
    "accelerator": "GPU"
  },
  "cells": [
    {
      "cell_type": "code",
      "metadata": {
        "id": "XzPMCzznkrx5",
        "colab_type": "code",
        "colab": {}
      },
      "source": [
        "#url for requesting api\n",
        "#https://www.themoviedb.org/settings/api"
      ],
      "execution_count": null,
      "outputs": []
    },
    {
      "cell_type": "markdown",
      "metadata": {
        "id": "UDBQwL2rUIJu",
        "colab_type": "text"
      },
      "source": [
        "#Libraries"
      ]
    },
    {
      "cell_type": "code",
      "metadata": {
        "id": "we6RvxzHkeIb",
        "colab_type": "code",
        "colab": {
          "base_uri": "https://localhost:8080/",
          "height": 71
        },
        "outputId": "640d0ef5-036d-471f-e34b-c877223cab56"
      },
      "source": [
        "import pandas as pd\n",
        "import numpy as np\n",
        "from tqdm import tqdm,tqdm_notebook\n",
        "import matplotlib.pyplot as plt\n",
        "import seaborn as sns"
      ],
      "execution_count": 1,
      "outputs": [
        {
          "output_type": "stream",
          "text": [
            "/usr/local/lib/python3.6/dist-packages/statsmodels/tools/_testing.py:19: FutureWarning: pandas.util.testing is deprecated. Use the functions in the public API at pandas.testing instead.\n",
            "  import pandas.util.testing as tm\n"
          ],
          "name": "stderr"
        }
      ]
    },
    {
      "cell_type": "code",
      "metadata": {
        "id": "zOaYBA16Htqx",
        "colab_type": "code",
        "colab": {}
      },
      "source": [
        "#Getting the Tabular Data of films from Wikipedia\n",
        "def tabular_data_extract(start_year,end_year,link):\n",
        "  data_dt={}\n",
        "  for year in tqdm(range(start_year,end_year)):\n",
        "    link_full = link+str(year)\n",
        "    temp_lst=[]\n",
        "    try:\n",
        "      for table_num in range(27):\n",
        "        df = pd.read_html(link_full, header=0)[table_num]\n",
        "        if df.shape[0]>12 and df.shape[1]>3:\n",
        "          try:\n",
        "            df['Title']\n",
        "          except:\n",
        "            if 'Titlesindoor' in list(df.columns):\n",
        "              df.rename({'Titlesindoor':'Title'},axis=1,inplace=True)\n",
        "            else:\n",
        "              break\n",
        "          try:\n",
        "            df['Director']\n",
        "          except: \n",
        "            df['Director']=['unknown' for i in range(df.shape[0])]\n",
        "          try:\n",
        "            df['Cast']\n",
        "          except:\n",
        "            if 'Cast and crew' in list(df.columns):\n",
        "              df.rename({'Cast and crew':'Cast'},axis=1,inplace=True)\n",
        "            else:\n",
        "              df['Cast']=['unknown' for i in range(df.shape[0])]\n",
        "          try:\n",
        "            df['Genre']\n",
        "          except:\n",
        "            df['Genre']=['unknown' for i in range(df.shape[0])]  \n",
        "          #print(df)\n",
        "          temp_lst.append(df.to_dict())\n",
        "    except:\n",
        "      pass\n",
        "    data_dt[year]=temp_lst\n",
        "  return data_dt"
      ],
      "execution_count": 2,
      "outputs": []
    },
    {
      "cell_type": "code",
      "metadata": {
        "id": "k-Y6nzbRKOPL",
        "colab_type": "code",
        "colab": {}
      },
      "source": [
        "#Creating a function to seperate data from dictionary\n",
        "def seperating_data(stat_year,end_year,data_dt):\n",
        "  Title_lst=[]\n",
        "  Director_lst=[]\n",
        "  Cast_lst=[]\n",
        "  Genre_lst=[]\n",
        "  Year_lst=[]\n",
        "\n",
        "  for year in tqdm(range(stat_year,end_year)):\n",
        "    temp_Title_lst=[]\n",
        "    for movie in data_dt[year]:\n",
        "      Title_lst.extend(list(movie['Title'].values()))\n",
        "      temp_Title_lst.extend(list(movie['Title'].values()))\n",
        "      Director_lst.extend(list(movie['Director'].values()))\n",
        "      Cast_lst.extend(list(movie['Cast'].values()))\n",
        "      Genre_lst.extend(list(movie['Genre'].values()))\n",
        "    Year_lst.extend([year for i in range(len(temp_Title_lst))])\n",
        "\n",
        "  return Title_lst,Director_lst,Cast_lst,Genre_lst,Year_lst\n"
      ],
      "execution_count": 3,
      "outputs": []
    },
    {
      "cell_type": "code",
      "metadata": {
        "id": "fJ9xXXLwJ8KZ",
        "colab_type": "code",
        "colab": {
          "base_uri": "https://localhost:8080/",
          "height": 34
        },
        "outputId": "bd0ffe99-92f1-45dd-ee26-4bcf69e84cdf"
      },
      "source": [
        "#Getting the Tabular Data of Hollywood films from Wikipedia\n",
        "start_year=1910\n",
        "end_year=2021\n",
        "link=\"https://en.wikipedia.org/wiki/List_of_American_films_of_\"\n",
        "hollywood_dt=tabular_data_extract(start_year,end_year,link)\n",
        "\n",
        "##Creating dataframe from Hollywood data\n",
        "start_year=1910\n",
        "end_year=2021\n",
        "Title_lst,Director_lst,Cast_lst,Genre_lst,Year_lst=seperating_data(start_year,end_year,hollywood_dt)\n",
        "hollywood_movie_dt={'Title':Title_lst,'Director':Director_lst,'Cast':Cast_lst,'Genre':Genre_lst,'Year':Year_lst}\n",
        "hollywood_movie_df=pd.DataFrame(hollywood_movie_dt)\n",
        "hollywood_movie_df.to_csv('hollywood_movie_df.csv',index=False)\n",
        "print(hollywood_movie_df.shape)\n",
        "hollywood_movie_df.head()"
      ],
      "execution_count": null,
      "outputs": [
        {
          "output_type": "stream",
          "text": [
            "100%|██████████| 111/111 [13:14<00:00,  7.16s/it]\n"
          ],
          "name": "stderr"
        }
      ]
    },
    {
      "cell_type": "code",
      "metadata": {
        "id": "XRuuU0OfKY0u",
        "colab_type": "code",
        "colab": {}
      },
      "source": [
        "#Getting the Tabular Data of Bollywood films from Wikipedia\n",
        "start_year=1930\n",
        "end_year=2021\n",
        "link=\"https://en.wikipedia.org/wiki/List_of_Bollywood_films_of_\"\n",
        "bollywood_dt=tabular_data_extract(start_year,end_year,link)\n",
        "\n",
        "##Creating dataframe from Bollywood data\n",
        "start_year=1930\n",
        "end_year=2021\n",
        "Title_lst,Director_lst,Cast_lst,Genre_lst,Year_lst=seperating_data(start_year,end_year,bollywood_dt)\n",
        "bollywood_movie_dt={'Title':Title_lst,'Director':Director_lst,'Cast':Cast_lst,'Genre':Genre_lst,'Year':Year_lst}\n",
        "bollywood_movie_df=pd.DataFrame(bollywood_movie_dt)\n",
        "bollywood_movie_df=bollywood_movie_df[bollywood_movie_df['Title']!=np.NaN]\n",
        "bollywood_movie_df.to_csv('bollywood_movie_df.csv',index=False)\n",
        "print(bollywood_movie_df.shape)\n",
        "bollywood_movie_df.head()"
      ],
      "execution_count": null,
      "outputs": []
    },
    {
      "cell_type": "code",
      "metadata": {
        "id": "v4mlA_FkKjYB",
        "colab_type": "code",
        "colab": {}
      },
      "source": [
        "#Getting the Tabular Data of Tollywood films from Wikipedia\n",
        "start_year=1940\n",
        "end_year=2021\n",
        "link=\"\"https://en.wikipedia.org/wiki/List_of_Telugu_films_of_\"\"\n",
        "tollywood_dt=tabular_data_extract(start_year,end_year,link)\n",
        "\n",
        "#Creating dataframe from Tollywood data\n",
        "start_year=1940\n",
        "end_year=2021\n",
        "Title_lst,Director_lst,Cast_lst,Genre_lst,Year_lst=seperating_data(start_year,end_year,tollywood_dt)\n",
        "tollywood_movies_dt={'Title':Title_lst,'Director':Director_lst,'Cast':Cast_lst,'Genre':Genre_lst,'Year':Year_lst}\n",
        "tollywood_movies_df=pd.DataFrame(tollywood_movies_dt)\n",
        "tollywood_movie_df=tollywood_movie_df[tollywood_movie_df['Title']!=np.NaN]\n",
        "tollywood_movie_df.to_csv('tollywood_movie_df.csv',index=False)\n",
        "print(tollywood_movies_df.shape)\n",
        "tollywood_movies_df.head(5)"
      ],
      "execution_count": null,
      "outputs": []
    },
    {
      "cell_type": "code",
      "metadata": {
        "id": "0aeqvTUUAIoW",
        "colab_type": "code",
        "colab": {}
      },
      "source": [
        "#Function for extracting genre of films using api key\n",
        "#!pip install tmdbv3api\n",
        "import sys\n",
        "from tmdbv3api import TMDb\n",
        "from tmdbv3api import Movie\n",
        "import json\n",
        "import requests\n",
        "tmdb = TMDb()\n",
        "tmdb.api_key = ''\n",
        "tmdb_movie = Movie()\n",
        "\n",
        "def get_genre(movie_name,year,lang):\n",
        "  movies_lst=tmdb_movie.search(movie_name)\n",
        "  if len(movies_lst)>0:\n",
        "    for i in movies_lst:\n",
        "      movie_id=i.id\n",
        "      response = requests.get('https://api.themoviedb.org/3/movie/{}?api_key={}'.format(movie_id,tmdb.api_key))\n",
        "      data_json=response.json()\n",
        "      #print(type(data_json['release_date'].split('-')[0]))\n",
        "      #print(data_json['original_language'])\n",
        "      try:\n",
        "        if data_json['release_date'].split('-')[0]==str(year) and data_json['original_language']==lang:\n",
        "          final_genre=\"\"\n",
        "          #print(data_json)\n",
        "          for i in range(10):\n",
        "            try:\n",
        "              final_genre+=data_json['genres'][i]['name']+\" \"\n",
        "            except:\n",
        "              break\n",
        "          final_genre=final_genre.strip()\n",
        "          break    \n",
        "        else:\n",
        "          final_genre='unknown'\n",
        "\n",
        "      except:\n",
        "        #print(sys.exc_info()[0])\n",
        "        final_genre='unknown'\n",
        "  else:\n",
        "    final_genre='unknown'\n",
        "\n",
        "  return final_genre"
      ],
      "execution_count": 2,
      "outputs": []
    },
    {
      "cell_type": "code",
      "metadata": {
        "id": "yK-7SnhjFZrh",
        "colab_type": "code",
        "colab": {}
      },
      "source": [
        "#funcion to get the genre for each row with unknown Genre.\n",
        "def genre_lst(title_lst,year_lst,old_genre_lst,lang):\n",
        "  Genre_final_lst=[]\n",
        "  for movie_name,year,genre in tqdm(zip(title_lst,year_lst,old_genre_lst)):\n",
        "    if genre=='unknown':\n",
        "      #print('not there',title_lst)\n",
        "      try:\n",
        "        genre_lst=get_genre(movie_name,year,lang)\n",
        "      except:\n",
        "        print(movie_name,year,genre)\n",
        "        break\n",
        "      if len(genre_lst)>0:\n",
        "        Genre_final_lst.append(genre_lst)\n",
        "      else:\n",
        "        Genre_final_lst.append('Unknown')\n",
        "    else:\n",
        "      Genre_final_lst.append(genre)\n",
        "\n",
        "  return Genre_final_lst"
      ],
      "execution_count": 3,
      "outputs": []
    },
    {
      "cell_type": "code",
      "metadata": {
        "id": "UM1zG-ks8ici",
        "colab_type": "code",
        "colab": {}
      },
      "source": [
        "hollywood_movie_df[hollywood_movie_df['Year']==2016][30:60]"
      ],
      "execution_count": null,
      "outputs": []
    },
    {
      "cell_type": "code",
      "metadata": {
        "id": "ulXSmnqW7w6G",
        "colab_type": "code",
        "colab": {}
      },
      "source": [
        "for i in title_lst:\n",
        "  if i=='nan':\n",
        "    print(i)"
      ],
      "execution_count": 7,
      "outputs": []
    },
    {
      "cell_type": "code",
      "metadata": {
        "id": "WAYVBW27KYN3",
        "colab_type": "code",
        "colab": {
          "base_uri": "https://localhost:8080/",
          "height": 221
        },
        "outputId": "033ab15e-a374-49ac-9fca-ca2834614cb9"
      },
      "source": [
        "#Getting Genre of Hollywood movies\n",
        "hollywood_movie_df=pd.read_csv('/content/hollywood_movie_df.csv')\n",
        "hollywood_movie_df=hollywood_movie_df.dropna()\n",
        "title_lst=hollywood_movie_df['Title'].values\n",
        "year_lst=hollywood_movie_df['Year'].values\n",
        "old_genre_lst=hollywood_movie_df['Genre'].values\n",
        "lang='en'\n",
        "\n",
        "Genre_final_lst=genre_lst(title_lst,year_lst,old_genre_lst,lang)\n",
        "\n",
        "hollywood_movie_df['new_Genre']=Genre_final_lst\n",
        "hollywood_movie_df.to_csv('hollywood_movie_df2.csv',index=False)\n",
        "hollywood_movie_df.head()\n"
      ],
      "execution_count": 4,
      "outputs": [
        {
          "output_type": "stream",
          "text": [
            "30465it [10:03, 50.48it/s]\n"
          ],
          "name": "stderr"
        },
        {
          "output_type": "execute_result",
          "data": {
            "text/html": [
              "<div>\n",
              "<style scoped>\n",
              "    .dataframe tbody tr th:only-of-type {\n",
              "        vertical-align: middle;\n",
              "    }\n",
              "\n",
              "    .dataframe tbody tr th {\n",
              "        vertical-align: top;\n",
              "    }\n",
              "\n",
              "    .dataframe thead th {\n",
              "        text-align: right;\n",
              "    }\n",
              "</style>\n",
              "<table border=\"1\" class=\"dataframe\">\n",
              "  <thead>\n",
              "    <tr style=\"text-align: right;\">\n",
              "      <th></th>\n",
              "      <th>Title</th>\n",
              "      <th>Director</th>\n",
              "      <th>Cast</th>\n",
              "      <th>Genre</th>\n",
              "      <th>Year</th>\n",
              "      <th>new_Genre</th>\n",
              "    </tr>\n",
              "  </thead>\n",
              "  <tbody>\n",
              "    <tr>\n",
              "      <th>1</th>\n",
              "      <td>An Arcadian Maid</td>\n",
              "      <td>D. W. Griffith</td>\n",
              "      <td>Mary Pickford, Mack Sennett</td>\n",
              "      <td>Drama</td>\n",
              "      <td>1910</td>\n",
              "      <td>Drama</td>\n",
              "    </tr>\n",
              "    <tr>\n",
              "      <th>2</th>\n",
              "      <td>As It Is In Life</td>\n",
              "      <td>D. W. Griffith</td>\n",
              "      <td>George Nichols, Gladys Egan, Mary Pickford</td>\n",
              "      <td>Romantic drama</td>\n",
              "      <td>1910</td>\n",
              "      <td>Romantic drama</td>\n",
              "    </tr>\n",
              "    <tr>\n",
              "      <th>4</th>\n",
              "      <td>The Courtship of Miles Standish</td>\n",
              "      <td>Hobart Bosworth</td>\n",
              "      <td>Robert Z. Leonard</td>\n",
              "      <td>Drama</td>\n",
              "      <td>1910</td>\n",
              "      <td>Drama</td>\n",
              "    </tr>\n",
              "    <tr>\n",
              "      <th>5</th>\n",
              "      <td>The Englishman and the Girl</td>\n",
              "      <td>D. W. Griffith</td>\n",
              "      <td>Charles Craig, Mary Pickford</td>\n",
              "      <td>Comedy</td>\n",
              "      <td>1910</td>\n",
              "      <td>Comedy</td>\n",
              "    </tr>\n",
              "    <tr>\n",
              "      <th>7</th>\n",
              "      <td>The Fugitive</td>\n",
              "      <td>D. W. Griffith</td>\n",
              "      <td>Kate Bruce, Edward Dillon</td>\n",
              "      <td>Drama</td>\n",
              "      <td>1910</td>\n",
              "      <td>Drama</td>\n",
              "    </tr>\n",
              "  </tbody>\n",
              "</table>\n",
              "</div>"
            ],
            "text/plain": [
              "                             Title         Director  ...  Year       new_Genre\n",
              "1                 An Arcadian Maid   D. W. Griffith  ...  1910           Drama\n",
              "2                 As It Is In Life   D. W. Griffith  ...  1910  Romantic drama\n",
              "4  The Courtship of Miles Standish  Hobart Bosworth  ...  1910           Drama\n",
              "5      The Englishman and the Girl   D. W. Griffith  ...  1910          Comedy\n",
              "7                     The Fugitive   D. W. Griffith  ...  1910           Drama\n",
              "\n",
              "[5 rows x 6 columns]"
            ]
          },
          "metadata": {
            "tags": []
          },
          "execution_count": 4
        }
      ]
    },
    {
      "cell_type": "code",
      "metadata": {
        "id": "n7bhiY2DnFIB",
        "colab_type": "code",
        "colab": {
          "base_uri": "https://localhost:8080/",
          "height": 221
        },
        "outputId": "e5e383e8-4a6a-4b15-e31d-a00c79a7763d"
      },
      "source": [
        "#Getting Genre of Bollywood movies\n",
        "bollywood_movie_df=pd.read_csv('/content/bollywood_movie_df.csv')\n",
        "bollywood_movie_df=bollywood_movie_df.dropna()\n",
        "\n",
        "title_lst=bollywood_movie_df['Title'].values\n",
        "year_lst=bollywood_movie_df['Year'].values\n",
        "old_genre_lst=bollywood_movie_df['Genre'].values\n",
        "lang='hi'\n",
        "\n",
        "Genre_final_lst=genre_lst(title_lst,year_lst,old_genre_lst,lang)\n",
        "\n",
        "bollywood_movie_df['new_Genre']=Genre_final_lst\n",
        "bollywood_movie_df.to_csv('bollywood_movie_df2.csv',index=False)\n",
        "bollywood_movie_df.head()\n"
      ],
      "execution_count": 5,
      "outputs": [
        {
          "output_type": "stream",
          "text": [
            "6572it [05:17, 20.69it/s]\n"
          ],
          "name": "stderr"
        },
        {
          "output_type": "execute_result",
          "data": {
            "text/html": [
              "<div>\n",
              "<style scoped>\n",
              "    .dataframe tbody tr th:only-of-type {\n",
              "        vertical-align: middle;\n",
              "    }\n",
              "\n",
              "    .dataframe tbody tr th {\n",
              "        vertical-align: top;\n",
              "    }\n",
              "\n",
              "    .dataframe thead th {\n",
              "        text-align: right;\n",
              "    }\n",
              "</style>\n",
              "<table border=\"1\" class=\"dataframe\">\n",
              "  <thead>\n",
              "    <tr style=\"text-align: right;\">\n",
              "      <th></th>\n",
              "      <th>Title</th>\n",
              "      <th>Director</th>\n",
              "      <th>Cast</th>\n",
              "      <th>Genre</th>\n",
              "      <th>Year</th>\n",
              "      <th>new_Genre</th>\n",
              "    </tr>\n",
              "  </thead>\n",
              "  <tbody>\n",
              "    <tr>\n",
              "      <th>0</th>\n",
              "      <td>A Prince Indeed a.k.a. Veer Bhushan</td>\n",
              "      <td>Keshavlal Joshi</td>\n",
              "      <td>Laxmi, Bachchu, Suleman Master, Drupad Bhatt</td>\n",
              "      <td>Costume</td>\n",
              "      <td>1930</td>\n",
              "      <td>Costume</td>\n",
              "    </tr>\n",
              "    <tr>\n",
              "      <th>1</th>\n",
              "      <td>Ace Of Swords a.k.a. Talwar Ka Phani</td>\n",
              "      <td>Harshad Mehta</td>\n",
              "      <td>Mumtaz, Ata Mohammed, Jani Babu, Nizam</td>\n",
              "      <td>Costume</td>\n",
              "      <td>1930</td>\n",
              "      <td>Costume</td>\n",
              "    </tr>\n",
              "    <tr>\n",
              "      <th>2</th>\n",
              "      <td>Alik Babu a.k.a. Master Liar</td>\n",
              "      <td>Dhiren Ganguly</td>\n",
              "      <td>Dhiren Ganguly, Radha Rani, D. R. Das, Kalipad...</td>\n",
              "      <td>Social</td>\n",
              "      <td>1930</td>\n",
              "      <td>Social</td>\n",
              "    </tr>\n",
              "    <tr>\n",
              "      <th>6</th>\n",
              "      <td>Arunodaya a.k.a. The Rising Sun (Dawn)</td>\n",
              "      <td>Bhagwati Mishra</td>\n",
              "      <td>Master Vithal, Nirasha, Yakub, Boman Irani, Wa...</td>\n",
              "      <td>Costume</td>\n",
              "      <td>1930</td>\n",
              "      <td>Costume</td>\n",
              "    </tr>\n",
              "    <tr>\n",
              "      <th>8</th>\n",
              "      <td>Avenged a.k.a. Ver Vasul</td>\n",
              "      <td>M. Udwadia</td>\n",
              "      <td>Shahzadi, Udwadia, Malka</td>\n",
              "      <td>Costume</td>\n",
              "      <td>1930</td>\n",
              "      <td>Costume</td>\n",
              "    </tr>\n",
              "  </tbody>\n",
              "</table>\n",
              "</div>"
            ],
            "text/plain": [
              "                                    Title         Director  ...  Year new_Genre\n",
              "0     A Prince Indeed a.k.a. Veer Bhushan  Keshavlal Joshi  ...  1930   Costume\n",
              "1    Ace Of Swords a.k.a. Talwar Ka Phani    Harshad Mehta  ...  1930   Costume\n",
              "2            Alik Babu a.k.a. Master Liar   Dhiren Ganguly  ...  1930    Social\n",
              "6  Arunodaya a.k.a. The Rising Sun (Dawn)  Bhagwati Mishra  ...  1930   Costume\n",
              "8                Avenged a.k.a. Ver Vasul       M. Udwadia  ...  1930   Costume\n",
              "\n",
              "[5 rows x 6 columns]"
            ]
          },
          "metadata": {
            "tags": []
          },
          "execution_count": 5
        }
      ]
    },
    {
      "cell_type": "code",
      "metadata": {
        "id": "G-MPSRfqllfz",
        "colab_type": "code",
        "colab": {
          "base_uri": "https://localhost:8080/",
          "height": 221
        },
        "outputId": "26ea89f3-9633-43f2-ed3c-651734bbdf65"
      },
      "source": [
        "#Getting Genre of Tollywood movies\n",
        "tollywood_movie_df=pd.read_csv('/content/tollywood_movie_df.csv')\n",
        "tollywood_movie_df=tollywood_movie_df.dropna()\n",
        "\n",
        "title_lst=tollywood_movie_df['Title'].values\n",
        "year_lst=tollywood_movie_df['Year'].values\n",
        "old_genre_lst=tollywood_movie_df['Genre'].values\n",
        "lang='te'\n",
        "\n",
        "Genre_final_lst=genre_lst(title_lst,year_lst,old_genre_lst,lang)\n",
        "tollywood_movie_df['new_Genre']=Genre_final_lst\n",
        "tollywood_movie_df.to_csv('tollywood_movie_df2.csv',index=False)\n",
        "tollywood_movie_df.head()\n"
      ],
      "execution_count": 24,
      "outputs": [
        {
          "output_type": "stream",
          "text": [
            "2767it [11:23,  4.05it/s]\n"
          ],
          "name": "stderr"
        },
        {
          "output_type": "execute_result",
          "data": {
            "text/html": [
              "<div>\n",
              "<style scoped>\n",
              "    .dataframe tbody tr th:only-of-type {\n",
              "        vertical-align: middle;\n",
              "    }\n",
              "\n",
              "    .dataframe tbody tr th {\n",
              "        vertical-align: top;\n",
              "    }\n",
              "\n",
              "    .dataframe thead th {\n",
              "        text-align: right;\n",
              "    }\n",
              "</style>\n",
              "<table border=\"1\" class=\"dataframe\">\n",
              "  <thead>\n",
              "    <tr style=\"text-align: right;\">\n",
              "      <th></th>\n",
              "      <th>Title</th>\n",
              "      <th>Director</th>\n",
              "      <th>Cast</th>\n",
              "      <th>Genre</th>\n",
              "      <th>Year</th>\n",
              "      <th>new_Genre</th>\n",
              "    </tr>\n",
              "  </thead>\n",
              "  <tbody>\n",
              "    <tr>\n",
              "      <th>0</th>\n",
              "      <td>Barrister Parvateesarrn</td>\n",
              "      <td>H. M. Reddy</td>\n",
              "      <td>Lanka Satyam, G. Varalakshmi, K. Sivarao, L. V...</td>\n",
              "      <td>Comedy</td>\n",
              "      <td>1940</td>\n",
              "      <td>Comedy</td>\n",
              "    </tr>\n",
              "    <tr>\n",
              "      <th>1</th>\n",
              "      <td>Bhoja Kalidasu</td>\n",
              "      <td>H. V. Babu</td>\n",
              "      <td>Adhanki Srirama Murthy, Parepalli Subba Rao, P...</td>\n",
              "      <td>Mythology</td>\n",
              "      <td>1940</td>\n",
              "      <td>Mythology</td>\n",
              "    </tr>\n",
              "    <tr>\n",
              "      <th>2</th>\n",
              "      <td>Bhookailas</td>\n",
              "      <td>Sundar Rao Nadkarni</td>\n",
              "      <td>M. V. Subbiah Naidu, R. Nagendra Rao, Lakshmi ...</td>\n",
              "      <td>Devotional</td>\n",
              "      <td>1940</td>\n",
              "      <td>Devotional</td>\n",
              "    </tr>\n",
              "    <tr>\n",
              "      <th>3</th>\n",
              "      <td>Bondam Pelli</td>\n",
              "      <td>H. M. Reddy</td>\n",
              "      <td>L. V. Prasad, G. Varalakshmi</td>\n",
              "      <td>Comedy</td>\n",
              "      <td>1940</td>\n",
              "      <td>Comedy</td>\n",
              "    </tr>\n",
              "    <tr>\n",
              "      <th>4</th>\n",
              "      <td>Chaduvukunna Bharya</td>\n",
              "      <td>H. M. Reddy</td>\n",
              "      <td>Lanka Satyam, G. Varalakshmi</td>\n",
              "      <td>Comedy</td>\n",
              "      <td>1940</td>\n",
              "      <td>Comedy</td>\n",
              "    </tr>\n",
              "  </tbody>\n",
              "</table>\n",
              "</div>"
            ],
            "text/plain": [
              "                     Title             Director  ...  Year   new_Genre\n",
              "0  Barrister Parvateesarrn          H. M. Reddy  ...  1940      Comedy\n",
              "1           Bhoja Kalidasu           H. V. Babu  ...  1940   Mythology\n",
              "2               Bhookailas  Sundar Rao Nadkarni  ...  1940  Devotional\n",
              "3             Bondam Pelli          H. M. Reddy  ...  1940      Comedy\n",
              "4      Chaduvukunna Bharya          H. M. Reddy  ...  1940      Comedy\n",
              "\n",
              "[5 rows x 6 columns]"
            ]
          },
          "metadata": {
            "tags": []
          },
          "execution_count": 24
        }
      ]
    },
    {
      "cell_type": "code",
      "metadata": {
        "id": "4kMkS_5Artuo",
        "colab_type": "code",
        "colab": {}
      },
      "source": [
        "#get_genre('Taxiwala',2018,'te')\n",
        "#tmdb_movie.search('Taxiwaala')[0].id\n",
        "#response = requests.get('https://api.themoviedb.org/3/movie/{}?api_key={}'.format(tmdb_movie.search('Taxiwaala')[0].id,tmdb.api_key))\n",
        "#data_json=response.json()\n",
        "#data_json\n",
        "#hollywood_movie_df[hollywood_movie_df['Genre']=='unknown'].tail()\n",
        "#tollywood_movie_df[tollywood_movie_df['Genre']=='unknown'][800:]\n",
        "#bollywood_movie_df[bollywood_movie_df['new_Genre']=='unknown'].shape\n",
        "#bollywood_movie_df[bollywood_movie_df['Year']>2017]"
      ],
      "execution_count": null,
      "outputs": []
    },
    {
      "cell_type": "markdown",
      "metadata": {
        "id": "gx5rRWO4jM3B",
        "colab_type": "text"
      },
      "source": [
        "#EDA"
      ]
    },
    {
      "cell_type": "code",
      "metadata": {
        "id": "FK5nCRbv86-8",
        "colab_type": "code",
        "colab": {
          "base_uri": "https://localhost:8080/",
          "height": 34
        },
        "outputId": "179a0fc8-2dcc-4b6f-b595-14c08a502771"
      },
      "source": [
        "hollywood_movie_df=pd.read_csv('/content/hollywood_movie_df2.csv')\n",
        "bollywood_movie_df=pd.read_csv('/content/bollywood_movie_df2.csv')\n",
        "tollywood_movie_df=pd.read_csv('/content/tollywood_movie_df2.csv')\n",
        "\n",
        "hollywood_movie_df['Language']=['English' for i in range(hollywood_movie_df.shape[0])]\n",
        "bollywood_movie_df['Language']=['Hindi' for i in range(bollywood_movie_df.shape[0])]\n",
        "tollywood_movie_df['Language']=['Telugu' for i in range(tollywood_movie_df.shape[0])]\n",
        "\n",
        "movie_df=pd.concat([hollywood_movie_df,bollywood_movie_df,tollywood_movie_df],axis=0)\n",
        "\n",
        "movie_df.drop('Genre',axis=1,inplace=True)\n",
        "movie_df.rename({'new_Genre':'Genre'},axis=1,inplace=True)\n",
        "\n",
        "movie_df.drop_duplicates(inplace=True)\n",
        "movie_df.shape"
      ],
      "execution_count": 85,
      "outputs": [
        {
          "output_type": "execute_result",
          "data": {
            "text/plain": [
              "(39793, 6)"
            ]
          },
          "metadata": {
            "tags": []
          },
          "execution_count": 85
        }
      ]
    },
    {
      "cell_type": "code",
      "metadata": {
        "id": "aLxyfA_jmckh",
        "colab_type": "code",
        "colab": {
          "base_uri": "https://localhost:8080/",
          "height": 34
        },
        "outputId": "00cd3452-8cae-492b-f4f2-1cd2e4358b48"
      },
      "source": [
        "movie_df.columns"
      ],
      "execution_count": 86,
      "outputs": [
        {
          "output_type": "execute_result",
          "data": {
            "text/plain": [
              "Index(['Title', 'Director', 'Cast', 'Year', 'Genre', 'Language'], dtype='object')"
            ]
          },
          "metadata": {
            "tags": []
          },
          "execution_count": 86
        }
      ]
    },
    {
      "cell_type": "code",
      "metadata": {
        "id": "2Y8tR666whkY",
        "colab_type": "code",
        "colab": {
          "base_uri": "https://localhost:8080/",
          "height": 233
        },
        "outputId": "49dd28f5-7f85-40a2-8ad0-2596963626c8"
      },
      "source": [
        "#year vs num of movies\n",
        "year_movie_dt=movie_df['Year'].value_counts().sort_index()\n",
        "keys=list(year_movie_dt.keys())\n",
        "values=list(year_movie_dt.values)\n",
        "\n",
        "plt.figure(figsize=(25,5))\n",
        "plt.bar(keys,values)"
      ],
      "execution_count": 87,
      "outputs": [
        {
          "output_type": "execute_result",
          "data": {
            "text/plain": [
              "<BarContainer object of 111 artists>"
            ]
          },
          "metadata": {
            "tags": []
          },
          "execution_count": 87
        },
        {
          "output_type": "display_data",
          "data": {
            "image/png": "[encoded data removed]",
            "text/plain": [
              "<Figure size 1800x360 with 1 Axes>"
            ]
          },
          "metadata": {
            "tags": [],
            "needs_background": "light"
          }
        }
      ]
    },
    {
      "cell_type": "code",
      "metadata": {
        "id": "ok3fXJ7QnWe7",
        "colab_type": "code",
        "colab": {
          "base_uri": "https://localhost:8080/",
          "height": 221
        },
        "outputId": "90ec5558-a3bf-40bf-b269-af8d553293c7"
      },
      "source": [
        "#Dropping rows where movie title is NaN\n",
        "movie_df=movie_df[movie_df['Title'].isna()==False]\n",
        "movie_df['Title']"
      ],
      "execution_count": 88,
      "outputs": [
        {
          "output_type": "execute_result",
          "data": {
            "text/plain": [
              "0                         An Arcadian Maid\n",
              "1                         As It Is In Life\n",
              "2          The Courtship of Miles Standish\n",
              "3              The Englishman and the Girl\n",
              "4                             The Fugitive\n",
              "                       ...                \n",
              "2762                         O Pitta Katha\n",
              "2763      Anukunnadi Okkati Ayyandhi Okati\n",
              "2764    Screenplay of an Indian Love Story\n",
              "2765                                 Madha\n",
              "2766                                Arjuna\n",
              "Name: Title, Length: 39793, dtype: object"
            ]
          },
          "metadata": {
            "tags": []
          },
          "execution_count": 88
        }
      ]
    },
    {
      "cell_type": "code",
      "metadata": {
        "id": "yMiNh5Cdme90",
        "colab_type": "code",
        "colab": {}
      },
      "source": [
        "#removing a.k.a from the movie title.\n",
        "movie_df['Title']=movie_df['Title'].apply(lambda x:x.split(' a.k.a. ')[-1].strip())"
      ],
      "execution_count": 89,
      "outputs": []
    },
    {
      "cell_type": "code",
      "metadata": {
        "id": "efJ8fdv5pPLF",
        "colab_type": "code",
        "colab": {
          "base_uri": "https://localhost:8080/",
          "height": 374
        },
        "outputId": "cb99d5bd-fce7-42df-a157-63764edeadb0"
      },
      "source": [
        "#THere are few rows which contains directors and artists in the cast column. Seperating directors.\n",
        "\n",
        "movie_df['Director'] = movie_df['Director'].replace(np.nan, 'unknown')\n",
        "print(movie_df['Director'].value_counts()[:5])\n",
        "\n",
        "dir_list=movie_df['Cast'].apply(lambda x: x.split(';')[0].split('(')[0].strip()).values\n",
        "\n",
        "#creating a new list of Directors\n",
        "new_director_lst=[]\n",
        "for dir,cast in zip(movie_df['Director'].values,dir_list):\n",
        "  if dir=='unknown' and len(cast.split(','))==1:\n",
        "    new_director_lst.append(cast)\n",
        "  else:\n",
        "    new_director_lst.append(dir) \n",
        "\n",
        "movie_df['Director']=new_director_lst\n",
        "movie_df.tail(5)\n"
      ],
      "execution_count": 90,
      "outputs": [
        {
          "output_type": "stream",
          "text": [
            "unknown             1866\n",
            "William Beaudine     150\n",
            "Sam Newfield         149\n",
            "Richard Thorpe       142\n",
            "Allan Dwan           131\n",
            "Name: Director, dtype: int64\n"
          ],
          "name": "stdout"
        },
        {
          "output_type": "execute_result",
          "data": {
            "text/html": [
              "<div>\n",
              "<style scoped>\n",
              "    .dataframe tbody tr th:only-of-type {\n",
              "        vertical-align: middle;\n",
              "    }\n",
              "\n",
              "    .dataframe tbody tr th {\n",
              "        vertical-align: top;\n",
              "    }\n",
              "\n",
              "    .dataframe thead th {\n",
              "        text-align: right;\n",
              "    }\n",
              "</style>\n",
              "<table border=\"1\" class=\"dataframe\">\n",
              "  <thead>\n",
              "    <tr style=\"text-align: right;\">\n",
              "      <th></th>\n",
              "      <th>Title</th>\n",
              "      <th>Director</th>\n",
              "      <th>Cast</th>\n",
              "      <th>Year</th>\n",
              "      <th>Genre</th>\n",
              "      <th>Language</th>\n",
              "    </tr>\n",
              "  </thead>\n",
              "  <tbody>\n",
              "    <tr>\n",
              "      <th>2762</th>\n",
              "      <td>O Pitta Katha</td>\n",
              "      <td>Chandu Muddu</td>\n",
              "      <td>Viswant DuddumpudiSanjay RaoNithya ShettyBrahmaji</td>\n",
              "      <td>2020</td>\n",
              "      <td>Romance Thriller</td>\n",
              "      <td>Telugu</td>\n",
              "    </tr>\n",
              "    <tr>\n",
              "      <th>2763</th>\n",
              "      <td>Anukunnadi Okkati Ayyandhi Okati</td>\n",
              "      <td>Baalu Adusumilli</td>\n",
              "      <td>Dhanya BalakrishnaKomalee PrasadSiddhi IdnaniT...</td>\n",
              "      <td>2020</td>\n",
              "      <td>unknown</td>\n",
              "      <td>Telugu</td>\n",
              "    </tr>\n",
              "    <tr>\n",
              "      <th>2764</th>\n",
              "      <td>Screenplay of an Indian Love Story</td>\n",
              "      <td>K L Prasad</td>\n",
              "      <td>Pragathi YadhatiVikram Shiva</td>\n",
              "      <td>2020</td>\n",
              "      <td>unknown</td>\n",
              "      <td>Telugu</td>\n",
              "    </tr>\n",
              "    <tr>\n",
              "      <th>2765</th>\n",
              "      <td>Madha</td>\n",
              "      <td>Srividya Basawa</td>\n",
              "      <td>Trishna MukherjeeVenkat RahulAnish KuruvillaBi...</td>\n",
              "      <td>2020</td>\n",
              "      <td>Mystery Thriller</td>\n",
              "      <td>Telugu</td>\n",
              "    </tr>\n",
              "    <tr>\n",
              "      <th>2766</th>\n",
              "      <td>Arjuna</td>\n",
              "      <td>Kanmani</td>\n",
              "      <td>RajasekharMaryam Zakaria</td>\n",
              "      <td>2020</td>\n",
              "      <td>unknown</td>\n",
              "      <td>Telugu</td>\n",
              "    </tr>\n",
              "  </tbody>\n",
              "</table>\n",
              "</div>"
            ],
            "text/plain": [
              "                                   Title  ... Language\n",
              "2762                       O Pitta Katha  ...   Telugu\n",
              "2763    Anukunnadi Okkati Ayyandhi Okati  ...   Telugu\n",
              "2764  Screenplay of an Indian Love Story  ...   Telugu\n",
              "2765                               Madha  ...   Telugu\n",
              "2766                              Arjuna  ...   Telugu\n",
              "\n",
              "[5 rows x 6 columns]"
            ]
          },
          "metadata": {
            "tags": []
          },
          "execution_count": 90
        }
      ]
    },
    {
      "cell_type": "code",
      "metadata": {
        "id": "4SWuq1-iEmoG",
        "colab_type": "code",
        "colab": {
          "base_uri": "https://localhost:8080/",
          "height": 119
        },
        "outputId": "60031742-ff77-4286-ddca-a716aeaa397c"
      },
      "source": [
        "print(movie_df['Cast'].value_counts()[:5])\n",
        "#taking only artist names in the Cast column excluding directors and Screenplay\n",
        "movie_df['Cast']=movie_df['Cast'].apply(lambda x:x.split(\";\")[-1])"
      ],
      "execution_count": 91,
      "outputs": [
        {
          "output_type": "stream",
          "text": [
            "unknown              8144\n",
            "Harold Lloyd           97\n",
            "The Three Stooges      86\n",
            "Tom and Jerry          73\n",
            "Looney Tunes           46\n",
            "Name: Cast, dtype: int64\n"
          ],
          "name": "stdout"
        }
      ]
    },
    {
      "cell_type": "code",
      "metadata": {
        "id": "93Dv618Op2lF",
        "colab_type": "code",
        "colab": {
          "base_uri": "https://localhost:8080/",
          "height": 306
        },
        "outputId": "edc4ff28-db37-4243-dbb8-35f25cbdfe18"
      },
      "source": [
        "movie_df['Cast'] = movie_df['Cast'].replace(np.nan, 'unknown')\n",
        "\n",
        "actor_1_name=[]\n",
        "actor_2_name=[]\n",
        "actor_3_name=[]\n",
        "\n",
        "for i,year,lang in zip(movie_df['Cast'].values,movie_df['Year'].values,movie_df['Language'].values):\n",
        "  if (lang=='English') or (year<=2017 and lang=='Hindi') or (year<=2019 and lang=='Telugu'):\n",
        "    try:\n",
        "      actor_1_name.append(i.split(',')[0].strip())\n",
        "    except:\n",
        "      actor_1_name.append('unknown')\n",
        "    try:\n",
        "      actor_2_name.append(i.split(',')[1].strip())\n",
        "    except:\n",
        "      actor_2_name.append('unknown')\n",
        "    try:\n",
        "      actor_3_name.append(i.split(',')[2].strip())\n",
        "    except:\n",
        "      actor_3_name.append('unknown')\n",
        "\n",
        "  else:\n",
        "    try:\n",
        "      actor_1_name.append(i.split(' ')[0].strip())\n",
        "    except:\n",
        "      actor_1_name.append('unknown')\n",
        "    try:\n",
        "      actor_2_name.append(i.split(' ')[1].strip())\n",
        "    except:\n",
        "      actor_2_name.append('unknown')\n",
        "    try:\n",
        "      actor_3_name.append(i.split(' ')[2].strip())\n",
        "    except:\n",
        "      actor_3_name.append('unknown')\n",
        "  \n",
        "  \n",
        "movie_df['actor_1_name']=actor_1_name\n",
        "movie_df['actor_2_name']=actor_2_name\n",
        "movie_df['actor_3_name']=actor_3_name\n",
        "\n",
        "print(movie_df.shape)\n",
        "movie_df.head()"
      ],
      "execution_count": 95,
      "outputs": [
        {
          "output_type": "stream",
          "text": [
            "(39793, 9)\n"
          ],
          "name": "stdout"
        },
        {
          "output_type": "execute_result",
          "data": {
            "text/html": [
              "<div>\n",
              "<style scoped>\n",
              "    .dataframe tbody tr th:only-of-type {\n",
              "        vertical-align: middle;\n",
              "    }\n",
              "\n",
              "    .dataframe tbody tr th {\n",
              "        vertical-align: top;\n",
              "    }\n",
              "\n",
              "    .dataframe thead th {\n",
              "        text-align: right;\n",
              "    }\n",
              "</style>\n",
              "<table border=\"1\" class=\"dataframe\">\n",
              "  <thead>\n",
              "    <tr style=\"text-align: right;\">\n",
              "      <th></th>\n",
              "      <th>Title</th>\n",
              "      <th>Director</th>\n",
              "      <th>Cast</th>\n",
              "      <th>Year</th>\n",
              "      <th>Genre</th>\n",
              "      <th>Language</th>\n",
              "      <th>actor_1_name</th>\n",
              "      <th>actor_2_name</th>\n",
              "      <th>actor_3_name</th>\n",
              "    </tr>\n",
              "  </thead>\n",
              "  <tbody>\n",
              "    <tr>\n",
              "      <th>0</th>\n",
              "      <td>An Arcadian Maid</td>\n",
              "      <td>D. W. Griffith</td>\n",
              "      <td>Mary Pickford, Mack Sennett</td>\n",
              "      <td>1910</td>\n",
              "      <td>Drama</td>\n",
              "      <td>English</td>\n",
              "      <td>Mary Pickford</td>\n",
              "      <td>Mack Sennett</td>\n",
              "      <td>unknown</td>\n",
              "    </tr>\n",
              "    <tr>\n",
              "      <th>1</th>\n",
              "      <td>As It Is In Life</td>\n",
              "      <td>D. W. Griffith</td>\n",
              "      <td>George Nichols, Gladys Egan, Mary Pickford</td>\n",
              "      <td>1910</td>\n",
              "      <td>Romantic drama</td>\n",
              "      <td>English</td>\n",
              "      <td>George Nichols</td>\n",
              "      <td>Gladys Egan</td>\n",
              "      <td>Mary Pickford</td>\n",
              "    </tr>\n",
              "    <tr>\n",
              "      <th>2</th>\n",
              "      <td>The Courtship of Miles Standish</td>\n",
              "      <td>Hobart Bosworth</td>\n",
              "      <td>Robert Z. Leonard</td>\n",
              "      <td>1910</td>\n",
              "      <td>Drama</td>\n",
              "      <td>English</td>\n",
              "      <td>Robert Z. Leonard</td>\n",
              "      <td>unknown</td>\n",
              "      <td>unknown</td>\n",
              "    </tr>\n",
              "    <tr>\n",
              "      <th>3</th>\n",
              "      <td>The Englishman and the Girl</td>\n",
              "      <td>D. W. Griffith</td>\n",
              "      <td>Charles Craig, Mary Pickford</td>\n",
              "      <td>1910</td>\n",
              "      <td>Comedy</td>\n",
              "      <td>English</td>\n",
              "      <td>Charles Craig</td>\n",
              "      <td>Mary Pickford</td>\n",
              "      <td>unknown</td>\n",
              "    </tr>\n",
              "    <tr>\n",
              "      <th>4</th>\n",
              "      <td>The Fugitive</td>\n",
              "      <td>D. W. Griffith</td>\n",
              "      <td>Kate Bruce, Edward Dillon</td>\n",
              "      <td>1910</td>\n",
              "      <td>Drama</td>\n",
              "      <td>English</td>\n",
              "      <td>Kate Bruce</td>\n",
              "      <td>Edward Dillon</td>\n",
              "      <td>unknown</td>\n",
              "    </tr>\n",
              "  </tbody>\n",
              "</table>\n",
              "</div>"
            ],
            "text/plain": [
              "                             Title  ...   actor_3_name\n",
              "0                 An Arcadian Maid  ...        unknown\n",
              "1                 As It Is In Life  ...  Mary Pickford\n",
              "2  The Courtship of Miles Standish  ...        unknown\n",
              "3      The Englishman and the Girl  ...        unknown\n",
              "4                     The Fugitive  ...        unknown\n",
              "\n",
              "[5 rows x 9 columns]"
            ]
          },
          "metadata": {
            "tags": []
          },
          "execution_count": 95
        }
      ]
    },
    {
      "cell_type": "code",
      "metadata": {
        "id": "Y4o-Y-xmqPBu",
        "colab_type": "code",
        "colab": {
          "base_uri": "https://localhost:8080/",
          "height": 221
        },
        "outputId": "44f2f720-1a54-45d0-fffd-6f98598f06a0"
      },
      "source": [
        "movie_df['Genre'] = movie_df['Genre'].replace(np.nan, 'unknown')\n",
        "movie_df['Genre'].value_counts()"
      ],
      "execution_count": 96,
      "outputs": [
        {
          "output_type": "execute_result",
          "data": {
            "text/plain": [
              "Drama                                          8752\n",
              "Comedy                                         5723\n",
              "Western                                        3359\n",
              "Action                                         1698\n",
              "Romance                                        1198\n",
              "                                               ... \n",
              "Horror Thriller Drama                             1\n",
              "Drama, Fantasy, Musical                           1\n",
              "Sports Comedy                                     1\n",
              "Crime, Horror, Mystery                            1\n",
              "Adventure, Animated, Family, Fantasy-comedy       1\n",
              "Name: Genre, Length: 2413, dtype: int64"
            ]
          },
          "metadata": {
            "tags": []
          },
          "execution_count": 96
        }
      ]
    },
    {
      "cell_type": "code",
      "metadata": {
        "id": "NZFVaHxmsyRn",
        "colab_type": "code",
        "colab": {}
      },
      "source": [
        "#removing special symbols from Genre column\n",
        "import re\n",
        "movie_df['Genre']=movie_df['Genre'].apply(lambda x:re.sub('[^A-Za-z0-9]+', '', x))"
      ],
      "execution_count": 97,
      "outputs": []
    },
    {
      "cell_type": "code",
      "metadata": {
        "id": "vElpIZssu9V5",
        "colab_type": "code",
        "colab": {}
      },
      "source": [
        "#Combining Director,actors and Genre columns\n",
        "movie_df['combined']=movie_df['Director']+\" \"+movie_df['actor_1_name']+\" \"+movie_df['actor_2_name']+\" \"+movie_df['actor_3_name']+\" \"+movie_df['Genre']+\" \"+movie_df['Language']\n",
        "movie_df['combined']=movie_df['combined'].str.lower()"
      ],
      "execution_count": 98,
      "outputs": []
    },
    {
      "cell_type": "code",
      "metadata": {
        "id": "jJ-ymqJswFrz",
        "colab_type": "code",
        "colab": {
          "base_uri": "https://localhost:8080/",
          "height": 714
        },
        "outputId": "6ae4e201-56b2-4edf-b6d8-b7dcf024b7fc"
      },
      "source": [
        "#Finally dropping rows with missing values or duplicate rows\n",
        "movie_df=movie_df.dropna()\n",
        "movie_df.drop_duplicates(inplace=True)\n",
        "movie_df=movie_df.reset_index()\n",
        "movie_df=movie_df.drop('index',axis=1)\n",
        "\n",
        "print(movie_df.shape)\n",
        "movie_df.head()"
      ],
      "execution_count": 99,
      "outputs": [
        {
          "output_type": "stream",
          "text": [
            "(39793, 10)\n"
          ],
          "name": "stdout"
        },
        {
          "output_type": "execute_result",
          "data": {
            "text/html": [
              "<div>\n",
              "<style scoped>\n",
              "    .dataframe tbody tr th:only-of-type {\n",
              "        vertical-align: middle;\n",
              "    }\n",
              "\n",
              "    .dataframe tbody tr th {\n",
              "        vertical-align: top;\n",
              "    }\n",
              "\n",
              "    .dataframe thead th {\n",
              "        text-align: right;\n",
              "    }\n",
              "</style>\n",
              "<table border=\"1\" class=\"dataframe\">\n",
              "  <thead>\n",
              "    <tr style=\"text-align: right;\">\n",
              "      <th></th>\n",
              "      <th>Title</th>\n",
              "      <th>Director</th>\n",
              "      <th>Cast</th>\n",
              "      <th>Year</th>\n",
              "      <th>Genre</th>\n",
              "      <th>Language</th>\n",
              "      <th>actor_1_name</th>\n",
              "      <th>actor_2_name</th>\n",
              "      <th>actor_3_name</th>\n",
              "      <th>combined</th>\n",
              "    </tr>\n",
              "  </thead>\n",
              "  <tbody>\n",
              "    <tr>\n",
              "      <th>0</th>\n",
              "      <td>An Arcadian Maid</td>\n",
              "      <td>D. W. Griffith</td>\n",
              "      <td>Mary Pickford, Mack Sennett</td>\n",
              "      <td>1910</td>\n",
              "      <td>Drama</td>\n",
              "      <td>English</td>\n",
              "      <td>Mary Pickford</td>\n",
              "      <td>Mack Sennett</td>\n",
              "      <td>unknown</td>\n",
              "      <td>d. w. griffith mary pickford mack sennett unkn...</td>\n",
              "    </tr>\n",
              "    <tr>\n",
              "      <th>1</th>\n",
              "      <td>As It Is In Life</td>\n",
              "      <td>D. W. Griffith</td>\n",
              "      <td>George Nichols, Gladys Egan, Mary Pickford</td>\n",
              "      <td>1910</td>\n",
              "      <td>Romanticdrama</td>\n",
              "      <td>English</td>\n",
              "      <td>George Nichols</td>\n",
              "      <td>Gladys Egan</td>\n",
              "      <td>Mary Pickford</td>\n",
              "      <td>d. w. griffith george nichols gladys egan mary...</td>\n",
              "    </tr>\n",
              "    <tr>\n",
              "      <th>2</th>\n",
              "      <td>The Courtship of Miles Standish</td>\n",
              "      <td>Hobart Bosworth</td>\n",
              "      <td>Robert Z. Leonard</td>\n",
              "      <td>1910</td>\n",
              "      <td>Drama</td>\n",
              "      <td>English</td>\n",
              "      <td>Robert Z. Leonard</td>\n",
              "      <td>unknown</td>\n",
              "      <td>unknown</td>\n",
              "      <td>hobart bosworth robert z. leonard unknown unkn...</td>\n",
              "    </tr>\n",
              "    <tr>\n",
              "      <th>3</th>\n",
              "      <td>The Englishman and the Girl</td>\n",
              "      <td>D. W. Griffith</td>\n",
              "      <td>Charles Craig, Mary Pickford</td>\n",
              "      <td>1910</td>\n",
              "      <td>Comedy</td>\n",
              "      <td>English</td>\n",
              "      <td>Charles Craig</td>\n",
              "      <td>Mary Pickford</td>\n",
              "      <td>unknown</td>\n",
              "      <td>d. w. griffith charles craig mary pickford unk...</td>\n",
              "    </tr>\n",
              "    <tr>\n",
              "      <th>4</th>\n",
              "      <td>The Fugitive</td>\n",
              "      <td>D. W. Griffith</td>\n",
              "      <td>Kate Bruce, Edward Dillon</td>\n",
              "      <td>1910</td>\n",
              "      <td>Drama</td>\n",
              "      <td>English</td>\n",
              "      <td>Kate Bruce</td>\n",
              "      <td>Edward Dillon</td>\n",
              "      <td>unknown</td>\n",
              "      <td>d. w. griffith kate bruce edward dillon unknow...</td>\n",
              "    </tr>\n",
              "  </tbody>\n",
              "</table>\n",
              "</div>"
            ],
            "text/plain": [
              "                             Title  ...                                           combined\n",
              "0                 An Arcadian Maid  ...  d. w. griffith mary pickford mack sennett unkn...\n",
              "1                 As It Is In Life  ...  d. w. griffith george nichols gladys egan mary...\n",
              "2  The Courtship of Miles Standish  ...  hobart bosworth robert z. leonard unknown unkn...\n",
              "3      The Englishman and the Girl  ...  d. w. griffith charles craig mary pickford unk...\n",
              "4                     The Fugitive  ...  d. w. griffith kate bruce edward dillon unknow...\n",
              "\n",
              "[5 rows x 10 columns]"
            ]
          },
          "metadata": {
            "tags": []
          },
          "execution_count": 99
        }
      ]
    },
    {
      "cell_type": "markdown",
      "metadata": {
        "id": "wJ0ycg_IxoS3",
        "colab_type": "text"
      },
      "source": [
        "#Cosine Similarity"
      ]
    },
    {
      "cell_type": "code",
      "metadata": {
        "id": "yLW_TFe4xqRs",
        "colab_type": "code",
        "colab": {}
      },
      "source": [
        "from sklearn.feature_extraction.text import CountVectorizer\n",
        "cv=CountVectorizer()\n",
        "movie_comb=cv.fit_transform(movie_df['combined'])"
      ],
      "execution_count": 101,
      "outputs": []
    },
    {
      "cell_type": "code",
      "metadata": {
        "id": "WyOxtyEfyJUf",
        "colab_type": "code",
        "colab": {
          "base_uri": "https://localhost:8080/",
          "height": 68
        },
        "outputId": "2eee440f-8bba-46fa-9e39-73d91cf33c7a"
      },
      "source": [
        "from sklearn.neighbors import NearestNeighbors\n",
        "near_neigh=NearestNeighbors(metric='cosine',algorithm='brute')\n",
        "near_neigh.fit(movie_comb)"
      ],
      "execution_count": 102,
      "outputs": [
        {
          "output_type": "execute_result",
          "data": {
            "text/plain": [
              "NearestNeighbors(algorithm='brute', leaf_size=30, metric='cosine',\n",
              "                 metric_params=None, n_jobs=None, n_neighbors=5, p=2,\n",
              "                 radius=1.0)"
            ]
          },
          "metadata": {
            "tags": []
          },
          "execution_count": 102
        }
      ]
    },
    {
      "cell_type": "markdown",
      "metadata": {
        "id": "KWAj-sSPT3oI",
        "colab_type": "text"
      },
      "source": [
        "###Hollywood Recomendations"
      ]
    },
    {
      "cell_type": "code",
      "metadata": {
        "id": "Hu5thpxBR_-H",
        "colab_type": "code",
        "colab": {
          "base_uri": "https://localhost:8080/",
          "height": 204
        },
        "outputId": "89fff5f1-fbd3-4cc9-f04e-80b2974f6533"
      },
      "source": [
        "ind=movie_df[movie_df['Title']=='Interstellar'].index[0]\n",
        "\n",
        "distance,index=near_neigh.kneighbors(movie_comb[ind],n_neighbors=11)\n",
        "distance=distance.ravel()\n",
        "index=index.ravel()\n",
        "\n",
        "for i in range(len(distance)):\n",
        "  if i==0:\n",
        "    print('Top {} Similar movies to {} are :'.format(len(distance)-1,movie_df['Title'][index[i]]))\n",
        "  else:\n",
        "    print(\"{}. {} with a distance of {}\".format(i,movie_df['Title'][index[i]],np.round(distance[i],2)))"
      ],
      "execution_count": 107,
      "outputs": [
        {
          "output_type": "stream",
          "text": [
            "Top 10 Similar movies to Interstellar are :\n",
            "1. Inception with a distance of 0.23\n",
            "2. The Dark Knight Rises with a distance of 0.31\n",
            "3. Insomnia with a distance of 0.31\n",
            "4. The Dark Knight with a distance of 0.31\n",
            "5. Terminator Salvation with a distance of 0.36\n",
            "6. Super 8 with a distance of 0.36\n",
            "7. The Box with a distance of 0.38\n",
            "8. A.I. Artificial Intelligence with a distance of 0.38\n",
            "9. The Spirit with a distance of 0.38\n",
            "10. Solaris with a distance of 0.38\n"
          ],
          "name": "stdout"
        }
      ]
    },
    {
      "cell_type": "code",
      "metadata": {
        "id": "Ehp_Tz2ESSDV",
        "colab_type": "code",
        "colab": {
          "base_uri": "https://localhost:8080/",
          "height": 204
        },
        "outputId": "54a49c1f-e363-406e-a9ad-2e9b976324ab"
      },
      "source": [
        "ind=movie_df[movie_df['Title']=='Avatar'].index[0]\n",
        "\n",
        "distance,index=near_neigh.kneighbors(movie_comb[ind],n_neighbors=11)\n",
        "distance=distance.ravel()\n",
        "index=index.ravel()\n",
        "\n",
        "for i in range(len(distance)):\n",
        "  if i==0:\n",
        "    print('Top {} Similar movies to {} are :'.format(len(distance)-1,movie_df['Title'][index[i]]))\n",
        "  else:\n",
        "    print(\"{}. {} with a distance of {}\".format(i,movie_df['Title'][index[i]],np.round(distance[i],2)))"
      ],
      "execution_count": 126,
      "outputs": [
        {
          "output_type": "stream",
          "text": [
            "Top 10 Similar movies to Avatar are :\n",
            "1. Titanic 3D with a distance of 0.08\n",
            "2. Highway with a distance of 0.15\n",
            "3. We're Only Human with a distance of 0.15\n",
            "4. Tyson with a distance of 0.15\n",
            "5. Waiting for Forever with a distance of 0.15\n",
            "6. Grace Is Gone with a distance of 0.15\n",
            "7. Fargo Express with a distance of 0.15\n",
            "8. Welcome Home with a distance of 0.15\n",
            "9. We Bought a Zoo with a distance of 0.15\n",
            "10. Jason X with a distance of 0.15\n"
          ],
          "name": "stdout"
        }
      ]
    },
    {
      "cell_type": "markdown",
      "metadata": {
        "id": "WMPdlCC4T85s",
        "colab_type": "text"
      },
      "source": [
        "###Bollywood Recomendations"
      ]
    },
    {
      "cell_type": "code",
      "metadata": {
        "id": "mC5J9Sur2oQu",
        "colab_type": "code",
        "colab": {
          "base_uri": "https://localhost:8080/",
          "height": 204
        },
        "outputId": "2c1082b0-4e10-4b01-b414-424e5d551ccf"
      },
      "source": [
        "ind=movie_df[movie_df['Title']=='Aashiqui 2'].index[0]\n",
        "\n",
        "distance,index=near_neigh.kneighbors(movie_comb[ind],n_neighbors=11)\n",
        "distance=distance.ravel()\n",
        "index=index.ravel()\n",
        "\n",
        "for i in range(len(distance)):\n",
        "  if i==0:\n",
        "    print('Top {} Similar movies to {} are :'.format(len(distance)-1,movie_df['Title'][index[i]]))\n",
        "  else:\n",
        "    print(\"{}. {} with a distance of {}\".format(i,movie_df['Title'][index[i]],np.round(distance[i],2)))"
      ],
      "execution_count": null,
      "outputs": [
        {
          "output_type": "stream",
          "text": [
            "Top 10 Similar movies to Aashiqui 2 are :\n",
            "1. Ok Jaanu with a distance of 0.36\n",
            "2. Half Girlfriend with a distance of 0.54\n",
            "3. Ek Villain with a distance of 0.54\n",
            "4. Fitoor with a distance of 0.58\n",
            "5. Sapne Sajan Ke with a distance of 0.63\n",
            "6. Yeh Jawaani Hai Deewani with a distance of 0.65\n",
            "7. Prem Rog with a distance of 0.66\n",
            "8. Gori Tere Pyaar Mein with a distance of 0.67\n",
            "9. Yeh Vaada Raha with a distance of 0.68\n",
            "10. Aithe Enti with a distance of 0.69\n"
          ],
          "name": "stdout"
        }
      ]
    },
    {
      "cell_type": "code",
      "metadata": {
        "id": "dMxUsQvpyu55",
        "colab_type": "code",
        "colab": {
          "base_uri": "https://localhost:8080/",
          "height": 204
        },
        "outputId": "1cf1978e-54b5-43b4-ec47-939492d23d5f"
      },
      "source": [
        "ind=movie_df[movie_df['Title']=='Fukrey Returns'].index[0]\n",
        "\n",
        "distance,index=near_neigh.kneighbors(movie_comb[ind],n_neighbors=11)\n",
        "distance=distance.ravel()\n",
        "index=index.ravel()\n",
        "\n",
        "for i in range(len(distance)):\n",
        "  if i==0:\n",
        "    print('Top {} Similar movies to {} are :'.format(len(distance)-1,movie_df['Title'][index[i]]))\n",
        "  else:\n",
        "    print(\"{}. {} with a distance of {}\".format(i,movie_df['Title'][index[i]],np.round(distance[i],2)))"
      ],
      "execution_count": null,
      "outputs": [
        {
          "output_type": "stream",
          "text": [
            "Top 10 Similar movies to Fukrey Returns are :\n",
            "1. Fukrey with a distance of 0.3\n",
            "2. Baat Bann Gayi with a distance of 0.62\n",
            "3. Bangistan with a distance of 0.66\n",
            "4. Bittoo Boss with a distance of 0.68\n",
            "5. Sonali Cable with a distance of 0.7\n",
            "6. O Teri with a distance of 0.7\n",
            "7. Dolly Ki Doli with a distance of 0.7\n",
            "8. Bobby Jasoos with a distance of 0.7\n",
            "9. Bhanwarey with a distance of 0.71\n",
            "10. Afsar with a distance of 0.71\n"
          ],
          "name": "stdout"
        }
      ]
    },
    {
      "cell_type": "markdown",
      "metadata": {
        "id": "uhNgmxc0UIXb",
        "colab_type": "text"
      },
      "source": [
        "###Tollywood Recomendations"
      ]
    },
    {
      "cell_type": "code",
      "metadata": {
        "id": "UNpfk3z0SQSA",
        "colab_type": "code",
        "colab": {
          "base_uri": "https://localhost:8080/",
          "height": 204
        },
        "outputId": "1176c628-0c8f-4c1c-da97-9c8ec287b4aa"
      },
      "source": [
        "ind=movie_df[movie_df['Title']=='Temper'].index[0]\n",
        "\n",
        "distance,index=near_neigh.kneighbors(movie_comb[ind],n_neighbors=11)\n",
        "distance=distance.ravel()\n",
        "index=index.ravel()\n",
        "\n",
        "for i in range(len(distance)):\n",
        "  if i==0:\n",
        "    print('Top {} Similar movies to {} are :'.format(len(distance)-1,movie_df['Title'][index[i]]))\n",
        "  else:\n",
        "    print(\"{}. {} with a distance of {}\".format(i,movie_df['Title'][index[i]],np.round(distance[i],2)))"
      ],
      "execution_count": 138,
      "outputs": [
        {
          "output_type": "stream",
          "text": [
            "Top 10 Similar movies to Temper are :\n",
            "1. Businessman with a distance of 0.33\n",
            "2. Pokiri with a distance of 0.43\n",
            "3. Baadshah with a distance of 0.5\n",
            "4. Andhrawala with a distance of 0.5\n",
            "5. Simha Baludu with a distance of 0.52\n",
            "6. Singham with a distance of 0.52\n",
            "7. Devudu Chesina Manushulu with a distance of 0.52\n",
            "8. Vinavayya Ramayya with a distance of 0.54\n",
            "9. KD No:1 with a distance of 0.55\n",
            "10. Stree Janma with a distance of 0.55\n"
          ],
          "name": "stdout"
        }
      ]
    },
    {
      "cell_type": "code",
      "metadata": {
        "id": "sQu2ij2VRyog",
        "colab_type": "code",
        "colab": {
          "base_uri": "https://localhost:8080/",
          "height": 204
        },
        "outputId": "2ecaaa6d-49a4-4ea0-c774-0dc3753ecfa1"
      },
      "source": [
        "ind=movie_df[movie_df['Title']=='Kotha Bangaru Lokam'].index[0]\n",
        "\n",
        "distance,index=near_neigh.kneighbors(movie_comb[ind],n_neighbors=11)\n",
        "distance=distance.ravel()\n",
        "index=index.ravel()\n",
        "\n",
        "for i in range(len(distance)):\n",
        "  if i==0:\n",
        "    print('Top {} Similar movies to {} are :'.format(len(distance)-1,movie_df['Title'][index[i]]))\n",
        "  else:\n",
        "    print(\"{}. {} with a distance of {}\".format(i,movie_df['Title'][index[i]],np.round(distance[i],2)))"
      ],
      "execution_count": 141,
      "outputs": [
        {
          "output_type": "stream",
          "text": [
            "Top 10 Similar movies to Kotha Bangaru Lokam are :\n",
            "1. Priyudu with a distance of 0.37\n",
            "2. Mukunda with a distance of 0.4\n",
            "3. Vinavayya Ramayya with a distance of 0.52\n",
            "4. Lucky with a distance of 0.52\n",
            "5. Charminar with a distance of 0.52\n",
            "6. Mana Oori Ramayanam with a distance of 0.54\n",
            "7. Ulavacharu Biryani with a distance of 0.54\n",
            "8. Dhoni with a distance of 0.54\n",
            "9. Kalavar King with a distance of 0.55\n",
            "10. Ee Varsham Sakshiga with a distance of 0.55\n"
          ],
          "name": "stdout"
        }
      ]
    },
    {
      "cell_type": "code",
      "metadata": {
        "id": "ohfM7qWSSZ8e",
        "colab_type": "code",
        "colab": {
          "base_uri": "https://localhost:8080/",
          "height": 204
        },
        "outputId": "a2b33638-b06c-462a-bf56-70298d16b98b"
      },
      "source": [
        "ind=movie_df[movie_df['Title']=='Venky'].index[0]\n",
        "\n",
        "distance,index=near_neigh.kneighbors(movie_comb[ind],n_neighbors=11)\n",
        "distance=distance.ravel()\n",
        "index=index.ravel()\n",
        "\n",
        "for i in range(len(distance)):\n",
        "  if i==0:\n",
        "    print('Top {} Similar movies to {} are :'.format(len(distance)-1,movie_df['Title'][index[i]]))\n",
        "  else:\n",
        "    print(\"{}. {} with a distance of {}\".format(i,movie_df['Title'][index[i]],np.round(distance[i],2)))"
      ],
      "execution_count": 145,
      "outputs": [
        {
          "output_type": "stream",
          "text": [
            "Top 10 Similar movies to Venky are :\n",
            "1. Dubai Seenu with a distance of 0.41\n",
            "2. Nee Kosam with a distance of 0.41\n",
            "3. Amar Akbar Anthony with a distance of 0.44\n",
            "4. Bhadra with a distance of 0.47\n",
            "5. Chanti with a distance of 0.5\n",
            "6. Simha with a distance of 0.53\n",
            "7. Neninthe with a distance of 0.53\n",
            "8. Nippu with a distance of 0.53\n",
            "9. Vikramarkudu with a distance of 0.53\n",
            "10. Andarivadu with a distance of 0.53\n"
          ],
          "name": "stdout"
        }
      ]
    }
  ]
}